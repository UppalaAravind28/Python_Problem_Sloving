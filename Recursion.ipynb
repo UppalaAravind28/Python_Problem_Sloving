{
 "cells": [
  {
   "cell_type": "code",
   "execution_count": 14,
   "id": "986d15bc",
   "metadata": {},
   "outputs": [
    {
     "data": {
      "text/plain": [
       "1"
      ]
     },
     "execution_count": 14,
     "metadata": {},
     "output_type": "execute_result"
    }
   ],
   "source": [
    "# calcute the exponet of the number \n",
    "\n",
    "def exp(num,powe):\n",
    "    if powe==0 and exp==0:\n",
    "        return 0\n",
    "    elif powe==1:\n",
    "        return num\n",
    "    elif powe==0:\n",
    "        return 1\n",
    "    return num * exp(num,powe-1)\n",
    "exp(0,0)"
   ]
  },
  {
   "cell_type": "code",
   "execution_count": 15,
   "id": "340652c8",
   "metadata": {},
   "outputs": [
    {
     "data": {
      "text/plain": [
       "'dnivara'"
      ]
     },
     "execution_count": 15,
     "metadata": {},
     "output_type": "execute_result"
    }
   ],
   "source": [
    "# Palindrome\n",
    "\n",
    "def rev(leng):\n",
    "    if leng==-1:\n",
    "        return \"\"\n",
    "    return name[leng]+rev(leng-1)\n",
    "\n",
    "name=\"aravind\"\n",
    "rev(len(name)-1)"
   ]
  },
  {
   "cell_type": "code",
   "execution_count": 22,
   "id": "e59e63a9",
   "metadata": {},
   "outputs": [
    {
     "name": "stdout",
     "output_type": "stream",
     "text": [
      "6\n"
     ]
    }
   ],
   "source": [
    "# maxi element in a list\n",
    "\n",
    "def maxi(lst, le, ma):\n",
    "\n",
    "    if le == -1:\n",
    "        return ma    \n",
    "\n",
    "    if lst[le] > ma:\n",
    "        ma = lst[le]    \n",
    "    le -= 1   \n",
    "    return maxi(lst, le, ma)\n",
    "\n",
    "lst = [2, 3, 5, 6]\n",
    "ma = lst[0]\n",
    "leng = len(lst) - 1\n",
    "result = maxi(lst, leng, ma)\n",
    "print(result)"
   ]
  },
  {
   "cell_type": "code",
   "execution_count": 1,
   "id": "63122e03",
   "metadata": {},
   "outputs": [
    {
     "data": {
      "text/plain": [
       "30"
      ]
     },
     "execution_count": 1,
     "metadata": {},
     "output_type": "execute_result"
    }
   ],
   "source": [
    "# Sum of digits\n",
    "\n",
    "def sum_digits(num):\n",
    "    if num==0:\n",
    "        return 0\n",
    "    rem=num%10\n",
    "    return rem+sum_digits(num//10)\n",
    "number=45768\n",
    "sum_digits(number)"
   ]
  },
  {
   "cell_type": "code",
   "execution_count": 2,
   "id": "7bc0f53b",
   "metadata": {},
   "outputs": [
    {
     "name": "stdout",
     "output_type": "stream",
     "text": [
      "Palindrome\n"
     ]
    }
   ],
   "source": [
    "# palindrome or not\n",
    "\n",
    "def rev(leng):\n",
    "    if leng==-1:\n",
    "        return \"\"\n",
    "    return name[leng]+rev(leng-1)\n",
    "\n",
    "name=\"level\"\n",
    "pali=rev(len(name)-1)\n",
    "if pali==name:\n",
    "    print(\"Palindrome\")\n",
    "else:\n",
    "    print(\"Not a palindrome\")"
   ]
  },
  {
   "cell_type": "code",
   "execution_count": 4,
   "id": "6adaae97",
   "metadata": {},
   "outputs": [
    {
     "data": {
      "text/plain": [
       "7"
      ]
     },
     "execution_count": 4,
     "metadata": {},
     "output_type": "execute_result"
    }
   ],
   "source": [
    "# Count number of elements in a list\n",
    "\n",
    "def count_list(le):\n",
    "    if le==0:\n",
    "        return 0\n",
    "    return 1+count_list(le-1)\n",
    "\n",
    "\n",
    "lst4=[2,6,7,89,9,7,3]\n",
    "count_list(len(lst4))"
   ]
  },
  {
   "cell_type": "code",
   "execution_count": 5,
   "id": "16dc161e",
   "metadata": {},
   "outputs": [
    {
     "data": {
      "text/plain": [
       "55"
      ]
     },
     "execution_count": 5,
     "metadata": {},
     "output_type": "execute_result"
    }
   ],
   "source": [
    "# Sum of first n natural numbers using recursion\n",
    "\n",
    "def sum_n(n):\n",
    "    if n==0:\n",
    "        return 0\n",
    "    return n+sum_n(n-1)\n",
    "inp=10\n",
    "sum_n(inp)"
   ]
  },
  {
   "cell_type": "code",
   "execution_count": null,
   "id": "aa494f5a",
   "metadata": {},
   "outputs": [],
   "source": []
  }
 ],
 "metadata": {
  "kernelspec": {
   "display_name": "Python 3 (ipykernel)",
   "language": "python",
   "name": "python3"
  },
  "language_info": {
   "codemirror_mode": {
    "name": "ipython",
    "version": 3
   },
   "file_extension": ".py",
   "mimetype": "text/x-python",
   "name": "python",
   "nbconvert_exporter": "python",
   "pygments_lexer": "ipython3",
   "version": "3.11.4"
  }
 },
 "nbformat": 4,
 "nbformat_minor": 5
}
