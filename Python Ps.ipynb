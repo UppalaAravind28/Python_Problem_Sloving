{
 "cells": [
  {
   "cell_type": "markdown",
   "id": "bc5b6da0",
   "metadata": {},
   "source": [
    "# U. Aravind  problem sloving answers"
   ]
  },
  {
   "cell_type": "markdown",
   "id": "7d9589bb",
   "metadata": {},
   "source": [
    "# 1.  If else and if else ladder"
   ]
  },
  {
   "cell_type": "markdown",
   "id": "0bbc40fd",
   "metadata": {},
   "source": [
    "# a.  Easy Questions: "
   ]
  },
  {
   "cell_type": "code",
   "execution_count": 7,
   "id": "4f2ae75b",
   "metadata": {},
   "outputs": [
    {
     "name": "stdout",
     "output_type": "stream",
     "text": [
      "Enter the number :-3\n",
      "Given number is negative.\n"
     ]
    }
   ],
   "source": [
    "# i.  Write a program to check if a given number is positive, negative, or zero. \n",
    "\n",
    "check_num=int(input(\"Enter the number :\"))\n",
    "if check_num>0:\n",
    "    print(\"Given number is positive.\")\n",
    "elif check_num<0:\n",
    "    print(\"Given number is negative.\")\n",
    "else:\n",
    "    print(\"Given number is zero.\")\n",
    "    "
   ]
  },
  {
   "cell_type": "code",
   "execution_count": 10,
   "id": "3202d05f",
   "metadata": {},
   "outputs": [
    {
     "name": "stdout",
     "output_type": "stream",
     "text": [
      "Enter the number :7\n",
      "Given number is odd.\n"
     ]
    }
   ],
   "source": [
    "# ii. Determine if a number is odd or even. \n",
    "\n",
    "odd_or_even=int(input(\"Enter the number :\"))\n",
    "if odd_or_even%2==0:\n",
    "    print(\"Give number is even.\")\n",
    "else:\n",
    "    print(\"Given number is odd.\")"
   ]
  },
  {
   "cell_type": "code",
   "execution_count": 12,
   "id": "f0dec52c",
   "metadata": {},
   "outputs": [
    {
     "name": "stdout",
     "output_type": "stream",
     "text": [
      "Enter the age of the person :18\n",
      "The person is eligible for vote\n"
     ]
    }
   ],
   "source": [
    "# iii. Check if a person is eligible to vote (age >= 18). \n",
    "\n",
    "age=int(input(\"Enter the age of the person :\"))\n",
    "if age >=18:\n",
    "    print(\"The person is eligible for vote\")\n",
    "else:\n",
    "    print(\"The person is not elogible for vote.\")"
   ]
  },
  {
   "cell_type": "code",
   "execution_count": 14,
   "id": "c136d364",
   "metadata": {},
   "outputs": [
    {
     "name": "stdout",
     "output_type": "stream",
     "text": [
      "Enter the first number :20\n",
      "Enter the second number :34\n",
      "34 Is the greatest number.\n"
     ]
    }
   ],
   "source": [
    "# iv. Write a program to find the greatest of two numbers. \n",
    "\n",
    "num1=int(input(\"Enter the first number :\"))\n",
    "num2=int(input(\"Enter the second number :\"))\n",
    "print(num1, \"is the greatest number.\")if num1>num2 else print(num2,\"Is the greatest number.\")if num2>num1 else print(\"Both are equal numbers.\")"
   ]
  },
  {
   "cell_type": "code",
   "execution_count": 17,
   "id": "0e3734cb",
   "metadata": {},
   "outputs": [
    {
     "name": "stdout",
     "output_type": "stream",
     "text": [
      "Enter the marks of student34\n",
      "Fail\n"
     ]
    }
   ],
   "source": [
    "# v. Print \"Pass\" if a student scores more than 40 marks; otherwise, print \"Fail.\" \n",
    "\n",
    "stu_marks=int(input(\"Enter the marks of student\"))\n",
    "print(\"Pass\")if stu_marks>40 else print(\"Fail\")"
   ]
  },
  {
   "cell_type": "code",
   "execution_count": 22,
   "id": "7b73129e",
   "metadata": {},
   "outputs": [
    {
     "name": "stdout",
     "output_type": "stream",
     "text": [
      "Enter the week number :3\n",
      "Thesuday\n"
     ]
    }
   ],
   "source": [
    "# vi. Write a program to display the day of the week based on a number input (1 for Monday, 2 for Tuesday, etc.). \n",
    "\n",
    "week_num=int(input(\"Enter the week number :\"))\n",
    "weeks=[\"Sunday\",\"Monday\",'Thesuday',\"Wednesday\",\"Thursday\",\"Friday\",\"Saturday\"]\n",
    "print(weeks[week_num-1])"
   ]
  },
  {
   "cell_type": "code",
   "execution_count": 1,
   "id": "4106357e",
   "metadata": {},
   "outputs": [
    {
     "name": "stdout",
     "output_type": "stream",
     "text": [
      "Enter the 1st number :2\n",
      "Enter the operator :+\n",
      "Enter the 2nd number :4\n",
      "6\n"
     ]
    }
   ],
   "source": [
    "# vii. implement a simple calculator to perform addition, subtraction, multiplication, and division. \n",
    "\n",
    "ope1=int(input(\"Enter the 1st number :\"))\n",
    "oper=input(\"Enter the operator :\")\n",
    "ope2=int(input(\"Enter the 2nd number :\"))\n",
    "if oper==\"+\":\n",
    "    print(ope1+ope2)\n",
    "    \n",
    "elif oper==\"-\":\n",
    "    print(ope1-ope2)\n",
    "    \n",
    "elif oper==\"*\":\n",
    "    print(ope1*ope2)\n",
    "    \n",
    "elif oper==\"/\":\n",
    "    print(ope1/ope2)\n",
    "    \n",
    "elif oper==\"%\":\n",
    "    print(ope1%ope2)\n",
    "\n",
    "else:\n",
    "    print(\"Invalid operator.\")\n",
    "\n",
    "\n",
    "    "
   ]
  },
  {
   "cell_type": "code",
   "execution_count": 8,
   "id": "622dd356",
   "metadata": {},
   "outputs": [
    {
     "name": "stdout",
     "output_type": "stream",
     "text": [
      "Enter the month number :4\n",
      "April\n"
     ]
    }
   ],
   "source": [
    "# viii. Write a program to display the name of a month based on the month number (1 for January, 2 for February, etc.).\n",
    "\n",
    "month_num=int(input(\"Enter the month number :\"))\n",
    "months=['January', 'February', 'March', 'April', 'May', 'June', 'July', 'August', 'September', 'October', 'November', 'December']\n",
    "if 0<month_num<13:\n",
    "    print(months[month_num-1])\n",
    "else:\n",
    "    print(\"Invalid month number\")\n",
    "\n",
    "\n"
   ]
  },
  {
   "cell_type": "code",
   "execution_count": 9,
   "id": "4e41c6c2",
   "metadata": {},
   "outputs": [
    {
     "name": "stdout",
     "output_type": "stream",
     "text": [
      "Enter the first number :1\n",
      "Enter the second number :4\n",
      "Enter the third number :8\n",
      "8 is a greatest number\n"
     ]
    }
   ],
   "source": [
    "# i. Write a program to find the greatest of three numbers. \n",
    "\n",
    "num1=int(input(\"Enter the first number :\"))\n",
    "num2=int(input(\"Enter the second number :\"))\n",
    "num3=int(input(\"Enter the third number :\"))\n",
    "print(num1,\"is a greatest number\")if num1>num2 and num1>num3 else print(num2,\"is a greatest number\")if num2>num3 else print(num3,\"is a greatest number\")"
   ]
  },
  {
   "cell_type": "code",
   "execution_count": 13,
   "id": "71a39929",
   "metadata": {},
   "outputs": [
    {
     "name": "stdout",
     "output_type": "stream",
     "text": [
      "Enter the year :1900\n",
      "1900 is not a leap year\n"
     ]
    }
   ],
   "source": [
    "# ii. Check if a year is a leap year. \n",
    "\n",
    "year=int(input(\"Enter the year :\"))\n",
    "print(year,\"is a leap year\") if year % 400 == 0 or (year % 4 == 0 and year % 100 != 0) else print(year,\"is not a leap year\")"
   ]
  },
  {
   "cell_type": "code",
   "execution_count": 18,
   "id": "c1517ea4",
   "metadata": {},
   "outputs": [
    {
     "name": "stdout",
     "output_type": "stream",
     "text": [
      "Enter the character :a\n",
      "a is vowel.\n"
     ]
    }
   ],
   "source": [
    "# iii. Write a program to classify a character entered by the user as a vowel, consonant, or neither.\n",
    "\n",
    "c=input(\"Enter the character :\")\n",
    "char=c.lower()\n",
    "if len(char)>1:\n",
    "    print(\"Invalid  input.\")\n",
    "else:\n",
    "    vowel=\"aeiou\"\n",
    "    if char in vowel:\n",
    "        print(c,\"is vowel.\")\n",
    "    elif char.isalpha():\n",
    "        print(c,\"is consonent.\")\n",
    "    else:\n",
    "        print(c,\"is neither.\")\n",
    "        \n",
    "    "
   ]
  },
  {
   "cell_type": "code",
   "execution_count": 20,
   "id": "d2dfaa1a",
   "metadata": {},
   "outputs": [
    {
     "name": "stdout",
     "output_type": "stream",
     "text": [
      "Enter the marks :72\n",
      "Grade C\n"
     ]
    }
   ],
   "source": [
    "# iv. Calculate the grade of a student based on the marks they \n",
    "# score: \n",
    "# 1.  90-100  : Grade A \n",
    "# 2.  80-89  : Grade B \n",
    "# 3.  70-79  : Grade C \n",
    "# 4.  <70  : Fail. \n",
    "\n",
    "marks=int(input(\"Enter the marks :\"))\n",
    "if 0<=marks<=100:\n",
    "    if 90<=marks<=100:\n",
    "        print(\"Grade A\")\n",
    "    elif 80<=marks<=89:\n",
    "        print(\"Grade B\")\n",
    "    elif 70<=marks<=79:\n",
    "        print(\"Grade C\")\n",
    "    else:\n",
    "        print(\"Fail\")\n",
    "else:\n",
    "    print(\"Invalid marks.\")\n"
   ]
  },
  {
   "cell_type": "code",
   "execution_count": 23,
   "id": "963f1d99",
   "metadata": {},
   "outputs": [
    {
     "name": "stdout",
     "output_type": "stream",
     "text": [
      "Enter the first side of the triangle :12\n",
      "Enter the secondmside of the triangle :12\n",
      "Enter the third side of the triangle :14\n",
      "Valid triangle\n"
     ]
    }
   ],
   "source": [
    "# v. Write a program to check if three sides length form a valid triangle. \n",
    "\n",
    "side1=int(input(\"Enter the first side of the triangle :\"))\n",
    "side2=int(input(\"Enter the secondmside of the triangle :\"))\n",
    "side3=int(input(\"Enter the third side of the triangle :\"))\n",
    "print(\"Valid triangle\") if side1+side2>side3 or side1+side3>side2 or side2+side3>side1 else print(\"Invalid triangle\")"
   ]
  },
  {
   "cell_type": "markdown",
   "id": "62c0fc0b",
   "metadata": {},
   "source": [
    "# 2.  Loops:"
   ]
  },
  {
   "cell_type": "markdown",
   "id": "f3b375e5",
   "metadata": {},
   "source": [
    "# a.  Easy Questions: "
   ]
  },
  {
   "cell_type": "code",
   "execution_count": 52,
   "id": "d70b620b",
   "metadata": {},
   "outputs": [
    {
     "name": "stdout",
     "output_type": "stream",
     "text": [
      "1,2,3,4,5,6,7,8,9,10,11,12,13,14,15,16,17,18,19,20,21,22,23,24,25,26,27,28,29,30,31,32,33,34,35,36,37,38,39,40,41,42,43,44,45,46,47,48,49,50,51,52,53,54,55,56,57,58,59,60,61,62,63,64,65,66,67,68,69,70,71,72,73,74,75,76,77,78,79,80,81,82,83,84,85,86,87,88,89,90,91,92,93,94,95,96,97,98,99,100,"
     ]
    }
   ],
   "source": [
    "# i. Print all numbers from 1 to 100 using a  for  loop. \n",
    "\n",
    "for i in range(100):\n",
    "    print(i+1,end=\",\")"
   ]
  },
  {
   "cell_type": "code",
   "execution_count": 9,
   "id": "dc5198e2",
   "metadata": {},
   "outputs": [
    {
     "name": "stdout",
     "output_type": "stream",
     "text": [
      "Enter the number :15\n",
      "120\n"
     ]
    }
   ],
   "source": [
    "#  ii. Write a program to print the sum of the first  n  natural numbers. (n*n+1/ 2) \n",
    "\n",
    "n=int(input(\"Enter the number :\"))\n",
    "print(int(n*(n+1)/2))"
   ]
  },
  {
   "cell_type": "code",
   "execution_count": 29,
   "id": "14c764f1",
   "metadata": {},
   "outputs": [
    {
     "name": "stdout",
     "output_type": "stream",
     "text": [
      "2,4,6,8,10,12,14,16,18,20,22,24,26,28,30,32,34,36,38,40,42,44,46,48,50,"
     ]
    }
   ],
   "source": [
    "# iii. Print all even numbers between 1 and 50 using a  while loop\n",
    "\n",
    "i=1\n",
    "while(i<=50):\n",
    "    if i%2==0:\n",
    "        print(i,end=\",\")\n",
    "    i+=1\n"
   ]
  },
  {
   "cell_type": "code",
   "execution_count": null,
   "id": "4ec4ac73",
   "metadata": {},
   "outputs": [],
   "source": [
    "# iv. Write a program to display the multiplication table of a given number. First 20 \n",
    "\n",
    "num_table=int(input(\"Enter the number :\"))\n",
    "for i in range(1,20+1):\n",
    "    print(num,\"*\",i,\"=\",num_table*i)\n"
   ]
  },
  {
   "cell_type": "markdown",
   "id": "86f6b4e3",
   "metadata": {},
   "source": [
    "# b.  Medium Questions: "
   ]
  },
  {
   "cell_type": "code",
   "execution_count": 34,
   "id": "1989d138",
   "metadata": {},
   "outputs": [
    {
     "name": "stdout",
     "output_type": "stream",
     "text": [
      "Enter the number :45673\n",
      "25 is sum of the digits in the given number.\n",
      "37654 is reverse number.\n"
     ]
    }
   ],
   "source": [
    "# v. Reverse a number using a  while  loop. \n",
    "# 1.  Also can we get the sum of all the digits. \n",
    "\n",
    "num_rev=int(input(\"Enter the number :\"))\n",
    "s=0\n",
    "rev=0\n",
    "while(num_rev):\n",
    "    rem=num_rev%10\n",
    "    s+=rem\n",
    "    rev=rev*10+rem\n",
    "    num_rev//=10\n",
    "print(s,\"is sum of the digits in the given number.\")\n",
    "print(rev,\"is reverse number.\")\n",
    "    \n",
    "\n"
   ]
  },
  {
   "cell_type": "code",
   "execution_count": 37,
   "id": "276027b4",
   "metadata": {},
   "outputs": [
    {
     "name": "stdout",
     "output_type": "stream",
     "text": [
      "Enter the  given number :1234\n",
      "4  is the number of digits count.\n"
     ]
    }
   ],
   "source": [
    "# vi. Write a program to count the number of digits in a given number using a  while  loop. \n",
    "\n",
    "num_count=int(input(\"Enter the  given number :\"))\n",
    "count=0\n",
    "while(num_count):\n",
    "    count+=1\n",
    "    num_count//=10\n",
    "print(count,\" is the number of digits count.\")"
   ]
  },
  {
   "cell_type": "code",
   "execution_count": 39,
   "id": "1df3af27",
   "metadata": {},
   "outputs": [
    {
     "name": "stdout",
     "output_type": "stream",
     "text": [
      "Enter the number :3\n",
      "Enter the number :56\n",
      "Enter the number :-1\n",
      "You entered negative number.\n"
     ]
    }
   ],
   "source": [
    "# vii. Write a program that keeps asking the user to enter numbers until they enter a negative number. Use a  while  loop. \n",
    "\n",
    "ask_num=1\n",
    "while(ask_num>=0):\n",
    "    ask_num=int(input(\"Enter the number :\"))\n",
    "print(\"You entered negative number.\")"
   ]
  },
  {
   "cell_type": "markdown",
   "id": "7ab1c81d",
   "metadata": {},
   "source": [
    "# b.  Medium Questions: "
   ]
  },
  {
   "cell_type": "code",
   "execution_count": 40,
   "id": "16704636",
   "metadata": {},
   "outputs": [
    {
     "name": "stdout",
     "output_type": "stream",
     "text": [
      "0 1 1 2 3 5 8 13 21 34 "
     ]
    }
   ],
   "source": [
    "# i. Print the first 10 terms of the Fibonacci series using a  for loop. \n",
    "a=0\n",
    "b=1\n",
    "print(a,b,end=\" \")\n",
    "for i in range(2,10):\n",
    "    c=a+b\n",
    "    a=b\n",
    "    b=c\n",
    "    print(c,end=\" \")"
   ]
  },
  {
   "cell_type": "code",
   "execution_count": 50,
   "id": "f7a258dc",
   "metadata": {},
   "outputs": [
    {
     "name": "stdout",
     "output_type": "stream",
     "text": [
      "Enter the number :7\n",
      "7 is a prime number.\n"
     ]
    }
   ],
   "source": [
    "# ii. Check if a given number is a prime number using a  for loop.\n",
    "num_pri=int(input(\"Enter the number :\"))\n",
    "if num_pri <2 :\n",
    "    print(num_pri,\"is not a prime number.\")\n",
    "else:\n",
    "    count=0\n",
    "    for i in range (2,num_pri):\n",
    "        if num_pri % i == 0:\n",
    "            count+=1\n",
    "    if count:\n",
    "        print(num_pri,\"is not a prime number.\")\n",
    "    else:\n",
    "        print(num_pri,\"is a prime number.\")"
   ]
  },
  {
   "cell_type": "code",
   "execution_count": 8,
   "id": "d39c7f7c",
   "metadata": {},
   "outputs": [
    {
     "name": "stdout",
     "output_type": "stream",
     "text": [
      "Enter the number :5\n",
      "120\n"
     ]
    }
   ],
   "source": [
    "# iii. Write a program to calculate the factorial of a number using a  while  loop. \n",
    "num_fact=int(input(\"Enter the number :\"))\n",
    "fact=1\n",
    "for i in range(1,num_fact+1):\n",
    "    fact*=i\n",
    "print(fact)\n"
   ]
  },
  {
   "cell_type": "code",
   "execution_count": 13,
   "id": "d19d2c10",
   "metadata": {},
   "outputs": [
    {
     "name": "stdout",
     "output_type": "stream",
     "text": [
      "3 5 6 9 10 12 15 18 20 21 24 25 27 30 33 35 36 39 40 42 45 48 50 51 54 55 57 60 63 65 66 69 70 72 75 78 80 81 84 85 87 90 93 95 96 99 100 "
     ]
    }
   ],
   "source": [
    "# iv Print all numbers from 1 to 100 that are divisible by 3 and 5 using a  for  loop.\n",
    "for i in range(1,101):\n",
    "    print(i,end=\" \")if i%3==0 or i%5==0 else print(end=\"\")"
   ]
  },
  {
   "cell_type": "code",
   "execution_count": 14,
   "id": "56d422f2",
   "metadata": {},
   "outputs": [
    {
     "name": "stdout",
     "output_type": "stream",
     "text": [
      "Enter the number :2\n",
      "Press 1 for the square of the given number.\n",
      "Press 2 for the cube of the given number.\n",
      "Press 3 for the exit.\n",
      "Enter the number :2\n",
      "8\n"
     ]
    }
   ],
   "source": [
    "# v. Implement a menu-driven program where the user can \n",
    "# choose to: \n",
    "# 1.  Find the square of a number. \n",
    "# 2.  Find the cube of a number. \n",
    "# 3.  Exit.\n",
    "\n",
    "num_choose=int(input(\"Enter the number :\"))\n",
    "print(\"Press 1 for the square of the given number.\")\n",
    "print(\"Press 2 for the cube of the given number.\")\n",
    "print(\"Press 3 for the exit.\")\n",
    "a=int(input(\"Enter the number :\"))\n",
    "if a==1:\n",
    "    print(num_choose**2)\n",
    "elif a==2:\n",
    "    print(num_choose**3)\n",
    "elif a==3:\n",
    "    print(\"Exited\")\n",
    "else:\n",
    "    print(\"Invalid response\")\n"
   ]
  },
  {
   "cell_type": "code",
   "execution_count": 17,
   "id": "3ffda372",
   "metadata": {},
   "outputs": [
    {
     "name": "stdout",
     "output_type": "stream",
     "text": [
      "Enter the username :hsjs\n",
      "Enter the password :jsk\n",
      "Try again.\n",
      "Enter the username :jss\n",
      "Enter the password :bjsj\n",
      "Try again.\n",
      "Enter the username :bhsbjk\n",
      "Enter the password :jksj\n",
      "Your account is locked for 24 hours.\n"
     ]
    }
   ],
   "source": [
    "# vi. Implement a basic login system where the user has three attempts to enter the correct password using a loop.\n",
    "user =\"aravind_28\"\n",
    "password=\"DepthiLathaMadam@143\" #school crush\n",
    "count=0\n",
    "for i in range(3):\n",
    "    u=input(\"Enter the username :\")\n",
    "    p=input(\"Enter the password :\")\n",
    "    if user ==u and password == p:\n",
    "        print(\"Login sucessful.\")\n",
    "        break\n",
    "    elif count<2:\n",
    "        print(\"Try again.\")\n",
    "    count+=1\n",
    "if count:\n",
    "    print(\"Your account is locked for 24 hours.\")"
   ]
  },
  {
   "cell_type": "code",
   "execution_count": 2,
   "id": "36d865b6",
   "metadata": {},
   "outputs": [
    {
     "name": "stdout",
     "output_type": "stream",
     "text": [
      "Enter the year2023\n",
      "2023  Not a leap year.\n"
     ]
    }
   ],
   "source": [
    "year=int(input(\"Enter the year\"))\n",
    "print(year,\" is a leap year\")if year%400==0 or (year%4==0 and year%100!=0)else print(year,\" Not a leap year.\")"
   ]
  }
 ],
 "metadata": {
  "kernelspec": {
   "display_name": "Python 3 (ipykernel)",
   "language": "python",
   "name": "python3"
  },
  "language_info": {
   "codemirror_mode": {
    "name": "ipython",
    "version": 3
   },
   "file_extension": ".py",
   "mimetype": "text/x-python",
   "name": "python",
   "nbconvert_exporter": "python",
   "pygments_lexer": "ipython3",
   "version": "3.11.4"
  }
 },
 "nbformat": 4,
 "nbformat_minor": 5
}
