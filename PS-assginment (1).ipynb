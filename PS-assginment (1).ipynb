{
 "cells": [
  {
   "cell_type": "code",
   "execution_count": null,
   "id": "50b965d1",
   "metadata": {},
   "outputs": [],
   "source": [
    "# ip=int(input(\"Enter the number :\"))\n",
    "# count=0\n",
    "# while(True):\n",
    "#     ip+=1\n",
    "#     for i in range(2,ip):\n",
    "#         if ip%i==0:\n",
    "#             count+=1\n",
    "#     if count==0:\n",
    "#         print(ip)\n",
    "#         break\n",
    "        "
   ]
  },
  {
   "cell_type": "code",
   "execution_count": 8,
   "id": "e69f8830",
   "metadata": {},
   "outputs": [
    {
     "name": "stdout",
     "output_type": "stream",
     "text": [
      "Enter the number :15\n",
      "17\n"
     ]
    }
   ],
   "source": [
    "# ip1=int(input(\"Enter the number :\"))\n",
    "# while True:\n",
    "#     count=0\n",
    "#     ip1+=1\n",
    "#     for i in range(2,ip1):\n",
    "#         if ip1%i==0:\n",
    "#             count+=1\n",
    "#     if count==0:\n",
    "#         print(ip1)\n",
    "#         break\n",
    "            "
   ]
  },
  {
   "cell_type": "code",
   "execution_count": 37,
   "id": "460bdbac",
   "metadata": {},
   "outputs": [
    {
     "name": "stdout",
     "output_type": "stream",
     "text": [
      "Enter the number :15\n",
      "13\n"
     ]
    }
   ],
   "source": [
    "ip=int(input(\"Enter the number :\"))\n",
    "ip1=ip\n",
    "dec=ip\n",
    "inc=ip\n",
    "while True:\n",
    "    if ip1<=2:\n",
    "        break\n",
    "    count=0\n",
    "    ip1-=1\n",
    "    for i in range(ip1-1,2,-1):\n",
    "        if ip1%i==0:\n",
    "            count+=1\n",
    "    if count==0:\n",
    "        dec=ip1\n",
    "        break\n",
    "ip2=ip\n",
    "while True:\n",
    "    if ip2<2:\n",
    "        break\n",
    "    count=0\n",
    "    ip2+=1\n",
    "    for j in range(2,ip2):\n",
    "        if ip2%j==0:\n",
    "            count+=1\n",
    "    if count==0:\n",
    "        inc=ip2\n",
    "        break\n",
    "inc1=inc-ip\n",
    "dec1=ip-dec\n",
    "if inc1<dec1:\n",
    "    print(inc)\n",
    "else:\n",
    "    print(dec)\n",
    "\n"
   ]
  },
  {
   "cell_type": "code",
   "execution_count": null,
   "id": "82fd324f",
   "metadata": {},
   "outputs": [],
   "source": [
    "near leap year"
   ]
  },
  {
   "cell_type": "code",
   "execution_count": 46,
   "id": "71f3cdee",
   "metadata": {},
   "outputs": [
    {
     "name": "stdout",
     "output_type": "stream",
     "text": [
      "Enter the number :2023\n",
      "2024\n"
     ]
    }
   ],
   "source": [
    "year=int(input(\"Enter the number :\"))\n",
    "year_ip1=year\n",
    "year_dec=year\n",
    "year_inc=year\n",
    "while True:\n",
    "    year_ip1-=1\n",
    "    if year_ip1%400==0 or (year_ip1 %4==0 and year_ip1%100!=0):\n",
    "        year_dec=year_ip1\n",
    "        break\n",
    "    \n",
    "year_ip2=year\n",
    "while True:\n",
    "    year_ip2+=1\n",
    "    if year_ip2%400==0 or (year_ip2 %4==0 and year_ip2%100!=0):\n",
    "        year_inc=year_ip2\n",
    "        break\n",
    "inc1=year_inc-year\n",
    "dec1=year-year_dec\n",
    "if inc1<dec1:\n",
    "    print(year_inc)\n",
    "else:\n",
    "    print(year_dec)"
   ]
  },
  {
   "cell_type": "code",
   "execution_count": 3,
   "id": "deeb9e9b",
   "metadata": {},
   "outputs": [
    {
     "name": "stdout",
     "output_type": "stream",
     "text": [
      "Enter a number: 6\n",
      "6  is a perfect number.\n"
     ]
    }
   ],
   "source": [
    "# perfect number or not---6-->1,2,3=6\n",
    "\n",
    "def is_perfect_number(n):\n",
    "    if n <= 1:\n",
    "        return False\n",
    "\n",
    "    divisors_sum = 0\n",
    "    for i in range(1, n // 2 + 1): \n",
    "        if n % i == 0: \n",
    "            divisors_sum += i\n",
    "    return divisors_sum == n\n",
    "\n",
    "number = int(input(\"Enter a number: \"))\n",
    "if is_perfect_number(number):\n",
    "    print(number,\" is a perfect number.\")\n",
    "else:\n",
    "    print(number,\" is not a perfect number.\")"
   ]
  },
  {
   "cell_type": "code",
   "execution_count": 8,
   "id": "1a27ae7d",
   "metadata": {},
   "outputs": [
    {
     "name": "stdout",
     "output_type": "stream",
     "text": [
      "Enter the 1st number :100\n",
      "Enter the 2nd number :1000\n",
      "153\n",
      "370\n",
      "371\n",
      "407\n"
     ]
    }
   ],
   "source": [
    "# armstrong number in a given range\n",
    "\n",
    "low=int(input(\"Enter the 1st number :\"))\n",
    "upp=int(input(\"Enter the 2nd number :\"))\n",
    "\n",
    "for i in range(low, upp + 1):\n",
    "    order = len(str(i))\n",
    "    sum = 0\n",
    "    temp = i\n",
    "    while temp > 0:\n",
    "        digit = temp % 10\n",
    "        sum += digit ** order\n",
    "        temp //= 10\n",
    "\n",
    "    if i == sum:\n",
    "        print(i)"
   ]
  },
  {
   "cell_type": "code",
   "execution_count": 6,
   "id": "be208239",
   "metadata": {},
   "outputs": [
    {
     "name": "stdout",
     "output_type": "stream",
     "text": [
      "Enter the number of fib numbers :10\n",
      "0 1 1 2 3 5 8 13 21 34 "
     ]
    }
   ],
   "source": [
    "# fibonacci series\n",
    "n=int(input(\"Enter the number of fib numbers :\"))\n",
    "a=0\n",
    "b=1\n",
    "print(a,b,end=\" \")\n",
    "for i in range (2,n):\n",
    "    c=a+b\n",
    "    print(c,end=\" \")\n",
    "    a=b\n",
    "    b=c\n",
    "    "
   ]
  },
  {
   "cell_type": "code",
   "execution_count": 4,
   "id": "edd48cb6",
   "metadata": {},
   "outputs": [
    {
     "name": "stdout",
     "output_type": "stream",
     "text": [
      "-1 -2 -3 -4 -5 -6 -7 -8 -9 -10 "
     ]
    }
   ],
   "source": [
    "# negitive numbers -1 to -10\n",
    "for i in range(-1,-11,-1):\n",
    "    print(i,end=\" \")\n"
   ]
  },
  {
   "cell_type": "code",
   "execution_count": 6,
   "id": "7acc686f",
   "metadata": {},
   "outputs": [
    {
     "name": "stdout",
     "output_type": "stream",
     "text": [
      "Enter the number :3256275\n",
      "10\n"
     ]
    }
   ],
   "source": [
    "# even digits addition\n",
    "num_digit_add=int(input(\"Enter the number :\"))\n",
    "even_sum=0\n",
    "while num_digit_add:\n",
    "    rem=num_digit_add%10\n",
    "    if rem%2==0:\n",
    "        even_sum+=rem\n",
    "    num_digit_add//=10\n",
    "print(even_sum)\n"
   ]
  },
  {
   "cell_type": "code",
   "execution_count": 9,
   "id": "14169f51",
   "metadata": {},
   "outputs": [
    {
     "name": "stdout",
     "output_type": "stream",
     "text": [
      "Enter the number :24567\n",
      "Sum of the prime digits is 14\n",
      "Max prime digit is 7\n"
     ]
    }
   ],
   "source": [
    "# number prime digits addition and max prime digit in a number\n",
    "pri_Num=int(input(\"Enter the number :\"))\n",
    "temp=pri_Num\n",
    "prime_digits_sum=0\n",
    "max_digit=0\n",
    "while temp:\n",
    "    rem=temp%10\n",
    "    temp//=10\n",
    "    count=0\n",
    "    for i in range(2,rem):\n",
    "        if rem%i ==0:\n",
    "            count+=1\n",
    "    if count==0 and rem>1:\n",
    "        prime_digits_sum+=rem\n",
    "        if max_digit<rem:\n",
    "            max_digit=rem\n",
    "print(\"Sum of the prime digits is\",prime_digits_sum)\n",
    "print(\"Max prime digit is\",max_digit)\n",
    "        "
   ]
  },
  {
   "cell_type": "code",
   "execution_count": 12,
   "id": "ccae32ad",
   "metadata": {},
   "outputs": [
    {
     "name": "stdout",
     "output_type": "stream",
     "text": [
      "Enter the number :784546\n",
      "7  First digit is greater\n"
     ]
    }
   ],
   "source": [
    "# compare 1st digit and last digit in a number print the output\n",
    "com_digit=int(input(\"Enter the number :\"))\n",
    "strn=str(com_digit)\n",
    "first_digit=int(strn[0])\n",
    "last_digit=int(strn[len(strn)-1])\n",
    "print(first_digit,\" First digit is greater\") if first_digit> last_digit else print(last_digit,\"Last digit is greater.\")if last_digit>first_digit else print(\"Both are equal\")"
   ]
  },
  {
   "cell_type": "code",
   "execution_count": 22,
   "id": "62e49c34",
   "metadata": {},
   "outputs": [
    {
     "name": "stdout",
     "output_type": "stream",
     "text": [
      "Enter the number of fib numbers :3\n",
      "1\n"
     ]
    }
   ],
   "source": [
    "# Nth fobnacci\n",
    "nth_fib=int(input(\"Enter the number of fib numbers :\"))\n",
    "num1=0\n",
    "num2=1\n",
    "nth_out=0\n",
    "for i in range (2,nth_fib):\n",
    "    third=num1+num2\n",
    "    num1=num2\n",
    "    num2=third\n",
    "    nth_out=third\n",
    "print(num1) if nth_fib==1 else print(num2)if nth_fib==2 else print(nth_out)\n",
    "\n"
   ]
  },
  {
   "cell_type": "code",
   "execution_count": 25,
   "id": "6824ebac",
   "metadata": {},
   "outputs": [
    {
     "name": "stdout",
     "output_type": "stream",
     "text": [
      "Enter the number of fib numbers :100\n",
      "4 6 7 9 10 11 12 14 15 16 17 18 19 20 22 23 24 25 26 27 28 29 30 31 32 33 35 36 37 38 39 40 41 42 43 44 45 46 47 48 49 50 51 52 53 54 56 57 58 59 60 61 62 63 64 65 66 67 68 69 70 71 72 73 74 75 76 77 78 79 80 81 82 83 84 85 86 87 88 90 91 92 93 94 95 96 97 98 99 100 "
     ]
    }
   ],
   "source": [
    "# 1 to 100 non-fibnacci num print\n",
    "nth_fib1=int(input(\"Enter the number of fib numbers :\"))\n",
    "num1=0\n",
    "num2=1\n",
    "fib_list=[]\n",
    "for i in range (2,nth_fib1):\n",
    "    third=num1+num2\n",
    "    num1=num2\n",
    "    num2=third\n",
    "    fib_list.append(third)\n",
    "for j in range(1,nth_fib1+1):\n",
    "    if j not in fib_list:\n",
    "        print (j, end=\" \")\n",
    "\n"
   ]
  },
  {
   "cell_type": "code",
   "execution_count": 27,
   "id": "3fae8e72",
   "metadata": {},
   "outputs": [
    {
     "name": "stdout",
     "output_type": "stream",
     "text": [
      "20\n",
      "10\n"
     ]
    }
   ],
   "source": [
    "ara =10\n",
    "pra=20\n",
    "ara=ara^pra\n",
    "pra=ara^pra\n",
    "ara=ara^pra\n",
    "print(ara)\n",
    "print(pra)"
   ]
  },
  {
   "cell_type": "code",
   "execution_count": 7,
   "id": "2b0774c4",
   "metadata": {},
   "outputs": [
    {
     "name": "stdout",
     "output_type": "stream",
     "text": [
      "Max is : 84\n",
      "Min is : 26\n",
      "Sum is : 371\n"
     ]
    }
   ],
   "source": [
    "def result(lis):\n",
    "    max=min=lis[0]\n",
    "    sum=0\n",
    "    for i in lis:\n",
    "        if i>max:\n",
    "            max=i\n",
    "        if i<min:\n",
    "            min=i\n",
    "        sum+=i\n",
    "    return max,min,sum\n",
    "li=[27,26,84,73,37,47,77]\n",
    "res=result(li)\n",
    "print(\"Max is :\",res[0])\n",
    "print(\"Min is :\",res[1])\n",
    "print(\"Sum is :\",res[2])"
   ]
  },
  {
   "cell_type": "code",
   "execution_count": 13,
   "id": "7ed00c1a",
   "metadata": {},
   "outputs": [
    {
     "name": "stdout",
     "output_type": "stream",
     "text": [
      "4\n"
     ]
    }
   ],
   "source": [
    "def search(li,val):\n",
    "    for i in range(len(li)):\n",
    "        if li[i]==val:\n",
    "            va=i\n",
    "            return va\n",
    "    return \"Not found\"\n",
    "li=[1,3,4,6,7,6]\n",
    "val=7\n",
    "res1=search(li,val)\n",
    "print(res1)"
   ]
  },
  {
   "cell_type": "code",
   "execution_count": 10,
   "id": "a42bcf2f",
   "metadata": {},
   "outputs": [
    {
     "name": "stdout",
     "output_type": "stream",
     "text": [
      "[{'aravind': {'a': 2, 'r': 1, 'v': 1, 'i': 1, 'n': 1, 'd': 1}}, {'pragna': {'p': 1, 'r': 1, 'a': 2, 'g': 1, 'n': 1}}, {'ramya': {'r': 1, 'a': 2, 'm': 1, 'y': 1}}]\n",
      "<class 'dict'>\n"
     ]
    }
   ],
   "source": [
    "list=[\"aravind\",\"pragna\",\"ramya\"]\n",
    "list1=[]\n",
    "for k in list:\n",
    "    res={}\n",
    "    for c in k:\n",
    "        if c in res:\n",
    "            res[c]+=1\n",
    "        else:\n",
    "            res[c]=1\n",
    "    list1.append({k:res})\n",
    "    \n",
    "print(list1)"
   ]
  },
  {
   "cell_type": "code",
   "execution_count": 17,
   "id": "549ae2fa",
   "metadata": {},
   "outputs": [
    {
     "name": "stdout",
     "output_type": "stream",
     "text": [
      "6\n",
      "8\n"
     ]
    }
   ],
   "source": [
    "# second largest element\n",
    "\n",
    "li3=[2,6,8,4,5]\n",
    "max1=max2=li3[0]\n",
    "for i in li3:\n",
    "    if i > max1:\n",
    "        temp=max1\n",
    "        max1=i\n",
    "        max2=temp\n",
    "\n",
    "print(max2)\n",
    "print(max1)"
   ]
  },
  {
   "cell_type": "code",
   "execution_count": 7,
   "id": "79f81537",
   "metadata": {},
   "outputs": [
    {
     "name": "stdout",
     "output_type": "stream",
     "text": [
      "Duplicates: [1, 2, 5]\n",
      "Uniques: [3, 4, 6, 7, 8]\n"
     ]
    }
   ],
   "source": [
    "# You have to find duplicate elements and unique elements in a list\n",
    "\n",
    "lst = [1, 2, 3, 2, 4, 5, 1, 6, 7, 8, 5]\n",
    "duplicates = []\n",
    "uniques = []\n",
    "\n",
    "for item in lst:\n",
    "    if lst.count(item) > 1:\n",
    "        if item not in duplicates:\n",
    "            duplicates.append(item)\n",
    "    else:\n",
    "        uniques.append(item)\n",
    "        \n",
    "print(\"Duplicates:\", duplicates)\n",
    "print(\"Uniques:\", uniques)"
   ]
  },
  {
   "cell_type": "code",
   "execution_count": null,
   "id": "236f3c1c",
   "metadata": {},
   "outputs": [],
   "source": []
  },
  {
   "cell_type": "code",
   "execution_count": null,
   "id": "27c276a0",
   "metadata": {},
   "outputs": [],
   "source": []
  },
  {
   "cell_type": "code",
   "execution_count": null,
   "id": "e8908735",
   "metadata": {},
   "outputs": [],
   "source": []
  }
 ],
 "metadata": {
  "kernelspec": {
   "display_name": "Python 3 (ipykernel)",
   "language": "python",
   "name": "python3"
  },
  "language_info": {
   "codemirror_mode": {
    "name": "ipython",
    "version": 3
   },
   "file_extension": ".py",
   "mimetype": "text/x-python",
   "name": "python",
   "nbconvert_exporter": "python",
   "pygments_lexer": "ipython3",
   "version": "3.11.4"
  }
 },
 "nbformat": 4,
 "nbformat_minor": 5
}
