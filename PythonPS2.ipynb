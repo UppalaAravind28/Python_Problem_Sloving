{
 "cells": [
  {
   "cell_type": "code",
   "execution_count": 1,
   "id": "922026e1",
   "metadata": {},
   "outputs": [
    {
     "data": {
      "text/plain": [
       "[4, 17, 4, 16]"
      ]
     },
     "execution_count": 1,
     "metadata": {},
     "output_type": "execute_result"
    }
   ],
   "source": [
    "# Wap that takes an array of integers as input and calculates the sum of the \n",
    "# digits of each number in the list.  \n",
    "# Input: [202,89,112,88]           \n",
    "# Output: [4,17,4,16] \n",
    "\n",
    "def sum_digits(n):\n",
    "    sum=0\n",
    "    while n:\n",
    "        rem=n%10\n",
    "        sum+=rem\n",
    "        n//=10\n",
    "    return sum\n",
    "\n",
    "inp1=[202,89,112,88]\n",
    "for i in range(len(inp1)):\n",
    "    inp1[i]=sum_digits(inp1[i])\n",
    "inp1\n"
   ]
  },
  {
   "cell_type": "code",
   "execution_count": 2,
   "id": "60b72da0",
   "metadata": {},
   "outputs": [
    {
     "name": "stdout",
     "output_type": "stream",
     "text": [
      "[True, False, True, True]\n"
     ]
    }
   ],
   "source": [
    "# Wap to check if each number in an  list contains duplicate digits, returning true for duplicates and false for unique digits. \n",
    "# Input: [202,89,112,88]           \n",
    "# Output:[true ,false ,true ,true]\n",
    "\n",
    "def check_duplicate_digits(numbers):\n",
    "    result = []\n",
    "    for num in numbers:\n",
    "        num_str = str(num)\n",
    "        if len(set(num_str)) < len(num_str):\n",
    "            result.append(True)  \n",
    "        else:\n",
    "            result.append(False)  \n",
    "    return result\n",
    "\n",
    "\n",
    "numbers = [202, 89, 112, 88]\n",
    "output = check_duplicate_digits(numbers)\n",
    "print(output)"
   ]
  },
  {
   "cell_type": "code",
   "execution_count": 4,
   "id": "1aa64faf",
   "metadata": {},
   "outputs": [
    {
     "name": "stdout",
     "output_type": "stream",
     "text": [
      "[True, True, False, False, False]\n"
     ]
    }
   ],
   "source": [
    "# Wap to check if the digits of each number in an list are in increasing order, returning true or false for each Increasing order or not \n",
    "# Input: [568,89,112,88,571]     Output: [true,true ,false,false ,false] \n",
    "\n",
    "def check_increasing_order(numbers):\n",
    "    result = []\n",
    "    for num in numbers:\n",
    "        num_str = str(num)\n",
    "        is_increasing = True\n",
    "      \n",
    "        for i in range(len(num_str) - 1):\n",
    "            if num_str[i] >= num_str[i + 1]:\n",
    "                is_increasing = False\n",
    "                break\n",
    "  \n",
    "        result.append(is_increasing)\n",
    "    return result\n",
    "numbers1 = [568, 89, 112, 88, 571]\n",
    "\n",
    "output = check_increasing_order(numbers1)\n",
    "print(output)"
   ]
  },
  {
   "cell_type": "code",
   "execution_count": 5,
   "id": "3061958a",
   "metadata": {},
   "outputs": [
    {
     "name": "stdout",
     "output_type": "stream",
     "text": [
      "[False, False, False, True]\n"
     ]
    }
   ],
   "source": [
    "# Wap to check if the digits of each number in an list are in decreasing order and return an array of true otherwise false.Decreasing order -true \n",
    "# Input: [538,111,200,652,]       \n",
    "# Output: [false,false,false,true]\n",
    "\n",
    "def check_decreasing_order(numbers):\n",
    "    result = []\n",
    "    for num in numbers:\n",
    "        num_str = str(num)\n",
    "        is_decreasing = True\n",
    "        for i in range(len(num_str) - 1):\n",
    "            if num_str[i] <= num_str[i + 1]:\n",
    "                is_decreasing = False\n",
    "                break\n",
    "        result.append(is_decreasing)\n",
    "    return result\n",
    "\n",
    "numbers = [538, 111, 200, 652]\n",
    "output = check_decreasing_order(numbers)\n",
    "print(output)"
   ]
  },
  {
   "cell_type": "code",
   "execution_count": 10,
   "id": "c85472ac",
   "metadata": {},
   "outputs": [
    {
     "name": "stdout",
     "output_type": "stream",
     "text": [
      "26"
     ]
    }
   ],
   "source": [
    "# Find the missing numbers. \n",
    "# Input: 34571      \n",
    "# Outpur : 26 missing \n",
    "\n",
    "def find_missing_number(num):\n",
    "    t=num\n",
    "    max=0\n",
    "    min=num\n",
    "    dig=[]\n",
    "    while t:\n",
    "        rem=t%10\n",
    "        dig.append(rem)\n",
    "        if rem>max:\n",
    "            max=rem\n",
    "        if rem<min:\n",
    "            min=rem\n",
    "        t//=10\n",
    "    for i in range(min,max+1):\n",
    "        if i not in dig:\n",
    "            print(i,end='')\n",
    "        \n",
    "        \n",
    "num = 34571\n",
    "find_missing_number(num)\n"
   ]
  },
  {
   "cell_type": "code",
   "execution_count": null,
   "id": "b0da7647",
   "metadata": {},
   "outputs": [],
   "source": []
  }
 ],
 "metadata": {
  "kernelspec": {
   "display_name": "Python 3 (ipykernel)",
   "language": "python",
   "name": "python3"
  },
  "language_info": {
   "codemirror_mode": {
    "name": "ipython",
    "version": 3
   },
   "file_extension": ".py",
   "mimetype": "text/x-python",
   "name": "python",
   "nbconvert_exporter": "python",
   "pygments_lexer": "ipython3",
   "version": "3.11.4"
  }
 },
 "nbformat": 4,
 "nbformat_minor": 5
}
